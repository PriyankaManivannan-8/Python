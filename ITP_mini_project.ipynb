{
 "cells": [
  {
   "cell_type": "markdown",
   "metadata": {},
   "source": [
    "# <center>PGP Data Science Engineering</center>\n",
    "## <center>Introduction to Programming – Mini Project:</center>\n"
   ]
  },
  {
   "cell_type": "markdown",
   "metadata": {},
   "source": [
    "### Problem 1:\n",
    "\n",
    "1. Write a program to calculate area of shapes. Your program should be capable of calculating the area of a square, rectangle, triangle and a circle. The user should be presented with options to select the shape. Based on which shape is chosed by the user, the program should ask for the appropriate input and print the resulting area on the screen.\n",
    "\n",
    "When the program is run, the screen should display something like this:\n",
    "\n",
    "**Which shape would you like to calculate the area for? Please enter the option number-**<br>\n",
    "**1. Square**<br>\n",
    "**2. Rectangle**<br>\n",
    "**3. Triangle**<br>\n",
    "**4. Circle**<br>\n",
    "**Enter Option: _**\n",
    "\n",
    "Say the user enters the option 1.\n",
    "\n",
    "**Please enter the length of a side: _**\n",
    "\n",
    "If the user enters a value of 5. The output should be:\n",
    "\n",
    "**The area of the square is 25**\n",
    "\n",
    "This program should indicate that the input is invalid if the user enters a character instead of a number as input. For instance if the user enters a value of ‘a’ instead of 5 in the previous example the program should prompt:\n",
    "\n",
    "**Invalid input, please enter a number: _**\n"
   ]
  },
  {
   "cell_type": "code",
   "execution_count": null,
   "metadata": {},
   "outputs": [],
   "source": [
    "# Area of sq = a**2\n",
    "# Area of Rectangle = length*Width\n",
    "#Area of Triangle = 0.5*(b*h)\n",
    "#Area of Circle = (pi*r)**2"
   ]
  },
  {
   "cell_type": "code",
   "execution_count": 10,
   "metadata": {},
   "outputs": [
    {
     "name": "stdout",
     "output_type": "stream",
     "text": [
      "Enter Option:1\n",
      "Enter the sides of the sqaure:3\n",
      "area_of_the_square_is:  9\n"
     ]
    }
   ],
   "source": [
    "num = int(input('Enter Option:'))\n",
    "if num<=0 and num>4:\n",
    "    print('Enter a valid option number to find the area of the given shape')\n",
    "\n",
    "\n",
    "else:\n",
    "    if num==1:\n",
    "        a = input('Enter the sides of the sqaure:')\n",
    "        if a.isdigit():\n",
    "            area_of_sq=int(a)**2\n",
    "            print('area_of_the_square_is: ',area_of_sq)\n",
    "        else:\n",
    "            print('Invalid input, please enter a number')\n",
    "        \n",
    "    if num==2:\n",
    "        l=input('Enter the length of the Rectangle:')\n",
    "        w=input('Enter the width of the Rectangle:')\n",
    "        if l.isdigit() and w.isdigit():\n",
    "            area_of_rect=(int(l)*int(w))\n",
    "            print('area_of_the_rectangle_is: ',area_of_rect)\n",
    "        else:\n",
    "            print('Invalid input, please enter a number')\n",
    "            \n",
    "    elif num==3:\n",
    "        b=input('Enter the breadth of the Rectangle:')\n",
    "        h=input('Enter the height of the Rectangle:')\n",
    "        if b.isdigit() and h.isdigit():\n",
    "            area_of_triangle=0.5*(int(b)*int(h))\n",
    "            print('area_of_the_triangle_is: ',area_of_triangle)\n",
    "        else:\n",
    "            print('Invalid input, please enter a number')\n",
    "    elif num==4:\n",
    "        r=input('Enter the radius of the circle:')\n",
    "        if r.isdigit():\n",
    "            area_of_circle=(3.14*(int(r)**2))\n",
    "            print('area_of_the_circle_is: ',area_of_circle)\n",
    "        else:\n",
    "            print('Invalid input, please enter a number')"
   ]
  },
  {
   "cell_type": "markdown",
   "metadata": {},
   "source": [
    "### Problem 2:\n",
    "\n",
    "Create and encrypter in python based on the ceaser cipher. It is a substitution cipher where each character of the original text is shifted a certain number characters in the alphabet. Write a function that would require 2 arguments – the input text to be encrypted and a key. For eg: Given the input text ‘hello’ and the key 3, the resulting encryted text would be ‘khoor’. Here you can see that every character in the string hello is shifted by 3 characters. ‘h’ has shifted to ‘k’, ‘e’ has shifted to ‘h’ and so on. If a key of 5 were used, the resulting string would be ‘mjqqt’. This function should be capable of ignoring any characters which are not alphabets. The character ‘z’ entered by the user for a key of 3 would result in ‘c’.\n",
    "\n",
    "Usage:<br>\n",
    "**encrypt(‘hello world!’, 3)**<br>\n",
    "**‘khoor zruog!’**\n",
    "\n",
    "Similarly create decrypter which can decode the encryted text when provided the input text and key\n",
    "\n",
    "Usage:<br>\n",
    "**decrypt(‘khoor zruog!’, 3)**<br>\n",
    "**‘hello world!’**\n",
    "\n",
    "For the sake of simplicity you can assume that input solely consists of lowercase alphabets, spaces and punctuation symbols. Numbers in the input text would also be ignored similar to symbols."
   ]
  },
  {
   "cell_type": "code",
   "execution_count": 4,
   "metadata": {},
   "outputs": [
    {
     "data": {
      "text/plain": [
       "'khoor zruog!abc'"
      ]
     },
     "execution_count": 4,
     "metadata": {},
     "output_type": "execute_result"
    }
   ],
   "source": [
    "def encoder(s,key=0):\n",
    "    s=s.lower()\n",
    "    s=list(s)\n",
    "    i=0\n",
    "    for x in s:\n",
    "        a=ord(x)\n",
    "        if (a>=97) and (a<=122):\n",
    "            if (a+key)>122:\n",
    "                for k in list(range(key)): \n",
    "                    if (a)<122:\n",
    "                        a=a+1\n",
    "                    else:\n",
    "                        a=96\n",
    "                        a=a+1\n",
    "                s[i]=chr(a)\n",
    "                i+=1\n",
    "            else:\n",
    "                s[i]=chr(a+key)\n",
    "                i+=1\n",
    "        else:\n",
    "            i+=1\n",
    "    return ''.join(s)\n",
    "encoder('hello world!xyz', 3)"
   ]
  },
  {
   "cell_type": "code",
   "execution_count": 9,
   "metadata": {},
   "outputs": [
    {
     "data": {
      "text/plain": [
       "'hello world!xyz'"
      ]
     },
     "execution_count": 9,
     "metadata": {},
     "output_type": "execute_result"
    }
   ],
   "source": [
    "def decoder(s,key=0):\n",
    "    s=s.lower()\n",
    "    s=list(s)\n",
    "    i=0\n",
    "    for x in s:\n",
    "        b=ord(x)\n",
    "        if (b>=97) and (b<=122):\n",
    "            if (b-key)<=97: \n",
    "                for k in list(range(1,key+1)):\n",
    "                    if (b)>97:\n",
    "                        b=b-1\n",
    "                    else:\n",
    "                        b=123\n",
    "                        b=b-1\n",
    "                s[i]=chr(b)\n",
    "                i+=1\n",
    "            else:\n",
    "                s[i]=chr(b-key)\n",
    "                i+=1\n",
    "        else:\n",
    "            i+=1\n",
    "    return ''.join(s)\n",
    "\n",
    "decoder('khoor zruog!abc', 3)"
   ]
  },
  {
   "cell_type": "code",
   "execution_count": null,
   "metadata": {},
   "outputs": [],
   "source": []
  }
 ],
 "metadata": {
  "kernelspec": {
   "display_name": "Python 3",
   "language": "python",
   "name": "python3"
  },
  "language_info": {
   "codemirror_mode": {
    "name": "ipython",
    "version": 3
   },
   "file_extension": ".py",
   "mimetype": "text/x-python",
   "name": "python",
   "nbconvert_exporter": "python",
   "pygments_lexer": "ipython3",
   "version": "3.7.9"
  }
 },
 "nbformat": 4,
 "nbformat_minor": 2
}
